{
 "cells": [
  {
   "cell_type": "code",
   "execution_count": 43,
   "id": "4c8a3f6c-c46a-4ff4-b6f5-cacb588b269e",
   "metadata": {},
   "outputs": [],
   "source": [
    "import numpy as np\n",
    "from collections import Counter\n",
    "from sklearn.datasets import load_iris\n",
    "from sklearn.model_selection import train_test_split\n"
   ]
  },
  {
   "cell_type": "code",
   "execution_count": 44,
   "id": "354933ee-bab8-4053-a7e6-286ef3801f11",
   "metadata": {},
   "outputs": [],
   "source": [
    "def euclidean_distance(A, B):\n",
    "    n = len(A)\n",
    "    distance = 0\n",
    "    for i in range(n):\n",
    "        distance += (A[i] - B[i])**2\n",
    "    return np.sqrt(distance)"
   ]
  },
  {
   "cell_type": "code",
   "execution_count": 45,
   "id": "f7c1dcca-980a-4a96-8891-2ad570b46725",
   "metadata": {},
   "outputs": [],
   "source": [
    "def sort_by_distance(X_train, Y_train, Z): #--> X: training data, Y_train: labels, Z: query point\n",
    "    n = len(X_train)\n",
    "    distances = []\n",
    "    for i in range(n):\n",
    "        distance = euclidean_distance(X_train[i], Z)\n",
    "        distances.append((distance, Y_train[i]))\n",
    "    return sorted(distances, key=lambda x: x[0])\n",
    "    "
   ]
  },
  {
   "cell_type": "code",
   "execution_count": 46,
   "id": "69f9aa0b-6310-4073-a61a-81c19ab94a43",
   "metadata": {},
   "outputs": [],
   "source": [
    "def nearest_neighbors(X_train, Y_train, Z, k):\n",
    "    distances = sort_by_distance(X_train, Y_train, Z)\n",
    "    return distances[ : k]\n",
    "    "
   ]
  },
  {
   "cell_type": "code",
   "execution_count": 47,
   "id": "404d4e3a-e77c-487f-b302-74497f6fae06",
   "metadata": {},
   "outputs": [],
   "source": [
    "def KNN_predict(X_train, Y_train, Z, k):\n",
    "    near = nearest_neighbors(X_train, Y_train, Z, k)\n",
    "    labels = [label for (_, label) in near] \n",
    "    return Counter(labels).most_common(1)[0][0]\n",
    "    "
   ]
  },
  {
   "cell_type": "code",
   "execution_count": 48,
   "id": "cc323d89-74c4-4ab4-8c67-f01a045beb6e",
   "metadata": {},
   "outputs": [],
   "source": [
    "\n",
    "\n",
    "\n",
    "iris = load_iris()\n",
    "X = iris.data          \n",
    "Y = iris.target        \n",
    "\n",
    "label_names = iris.target_names  \n",
    "Y_labels = [label_names[i] for i in Y]\n"
   ]
  },
  {
   "cell_type": "code",
   "execution_count": 49,
   "id": "ed7d908d-2419-4412-bdea-60e5d6f78039",
   "metadata": {},
   "outputs": [],
   "source": [
    "\n",
    "X_train, X_test, Y_train, Y_test = train_test_split(\n",
    "    X, Y_labels, test_size=0.2, random_state=42\n",
    ")\n"
   ]
  },
  {
   "cell_type": "code",
   "execution_count": 50,
   "id": "7f421483-fad3-45b3-b94b-7ac475497d7c",
   "metadata": {},
   "outputs": [
    {
     "name": "stdout",
     "output_type": "stream",
     "text": [
      "Accuracy of your KNN on Iris test set: 100.00%\n"
     ]
    }
   ],
   "source": [
    "correct = 0\n",
    "k = 5\n",
    "\n",
    "for features, true_label in zip(X_test, Y_test):\n",
    "    predicted_label = KNN_predict(X_train, Y_train, features, k)\n",
    "    if predicted_label == true_label:\n",
    "        correct += 1\n",
    "\n",
    "accuracy = correct / len(Y_test)\n",
    "print(f\"Accuracy of your KNN on Iris test set: {accuracy:.2%}\")\n"
   ]
  }
 ],
 "metadata": {
  "kernelspec": {
   "display_name": "Python 3 (ipykernel)",
   "language": "python",
   "name": "python3"
  },
  "language_info": {
   "codemirror_mode": {
    "name": "ipython",
    "version": 3
   },
   "file_extension": ".py",
   "mimetype": "text/x-python",
   "name": "python",
   "nbconvert_exporter": "python",
   "pygments_lexer": "ipython3",
   "version": "3.12.7"
  }
 },
 "nbformat": 4,
 "nbformat_minor": 5
}
